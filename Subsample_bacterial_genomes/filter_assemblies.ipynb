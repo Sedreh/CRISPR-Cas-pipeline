{
 "cells": [
  {
   "cell_type": "code",
   "execution_count": 1,
   "metadata": {},
   "outputs": [],
   "source": [
    "import glob\n",
    "import gzip\n",
    "import operator as op\n",
    "import typing as t\n",
    "import re\n",
    "from collections import Counter\n",
    "from concurrent.futures import ProcessPoolExecutor\n",
    "\n",
    "\n",
    "import numpy as np\n",
    "import pandas as pd\n",
    "import tqdm\n",
    "import seaborn as sns\n",
    "from matplotlib import pyplot as plt\n",
    "from Bio import SeqIO\n",
    "from Bio.SeqRecord import SeqRecord\n",
    "from fn import F\n",
    "from fn.iters import group_by\n",
    "\n",
    "%matplotlib inline"
   ]
  },
  {
   "cell_type": "code",
   "execution_count": 2,
   "metadata": {},
   "outputs": [
    {
     "data": {
      "text/plain": [
       "18207"
      ]
     },
     "execution_count": 2,
     "metadata": {},
     "output_type": "execute_result"
    }
   ],
   "source": [
    "annotation_paths = glob.glob('assemblies/*.gbff.gz')\n",
    "len(annotation_paths)"
   ]
  },
  {
   "cell_type": "code",
   "execution_count": 3,
   "metadata": {},
   "outputs": [],
   "source": [
    "# extract sample IDs and make output paths\n",
    "id_patt = re.compile('(GCF_[0-9.]+)')\n",
    "ids = [id_patt.findall(path)[0] for path in annotation_paths]"
   ]
  },
  {
   "cell_type": "code",
   "execution_count": 4,
   "metadata": {},
   "outputs": [],
   "source": [
    "def parse_gzipped_gb(path: str) -> t.List[SeqRecord]:\n",
    "    with gzip.open(path, 'rt') as buffer:\n",
    "        return list(SeqIO.parse(buffer, 'gb'))\n",
    "\n",
    "\n",
    "def extract_species(assembly: t.List[SeqRecord]) -> str:\n",
    "    largest_chrom = max(assembly, key=len)\n",
    "    organism = largest_chrom.annotations['organism']\n",
    "    # we ignore subspecies division\n",
    "    return (\n",
    "        # Candidatus names comprise three words\n",
    "        ' '.join(organism.split()[:3]) if organism.startswith('Candidatus') else\n",
    "        # Regular names comprise two words\n",
    "        ' '.join(organism.split()[:2])\n",
    "    )"
   ]
  },
  {
   "cell_type": "code",
   "execution_count": 6,
   "metadata": {},
   "outputs": [
    {
     "name": "stderr",
     "output_type": "stream",
     "text": [
      "100%|██████████| 18207/18207 [14:44<00:00, 20.59it/s]\n"
     ]
    }
   ],
   "source": [
    "def parse_gb_and_extract_species(path: str) -> str:\n",
    "    return extract_species(parse_gzipped_gb(path))\n",
    "\n",
    "\n",
    "with ProcessPoolExecutor(20) as workers:\n",
    "    species = list(\n",
    "        tqdm.tqdm(\n",
    "            workers.map(parse_gb_and_extract_species, annotation_paths), \n",
    "            total=len(annotation_paths)\n",
    "        )\n",
    "    )"
   ]
  },
  {
   "cell_type": "code",
   "execution_count": 7,
   "metadata": {},
   "outputs": [
    {
     "data": {
      "text/html": [
       "<div>\n",
       "<style scoped>\n",
       "    .dataframe tbody tr th:only-of-type {\n",
       "        vertical-align: middle;\n",
       "    }\n",
       "\n",
       "    .dataframe tbody tr th {\n",
       "        vertical-align: top;\n",
       "    }\n",
       "\n",
       "    .dataframe thead th {\n",
       "        text-align: right;\n",
       "    }\n",
       "</style>\n",
       "<table border=\"1\" class=\"dataframe\">\n",
       "  <thead>\n",
       "    <tr style=\"text-align: right;\">\n",
       "      <th></th>\n",
       "      <th>id</th>\n",
       "      <th>species</th>\n",
       "    </tr>\n",
       "  </thead>\n",
       "  <tbody>\n",
       "    <tr>\n",
       "      <th>0</th>\n",
       "      <td>GCF_002881935.1</td>\n",
       "      <td>Streptococcus agalactiae</td>\n",
       "    </tr>\n",
       "    <tr>\n",
       "      <th>3</th>\n",
       "      <td>GCF_000013405.1</td>\n",
       "      <td>Syntrophus aciditrophicus</td>\n",
       "    </tr>\n",
       "    <tr>\n",
       "      <th>4</th>\n",
       "      <td>GCF_000427275.1</td>\n",
       "      <td>Mannheimia haemolytica</td>\n",
       "    </tr>\n",
       "    <tr>\n",
       "      <th>5</th>\n",
       "      <td>GCF_003325015.1</td>\n",
       "      <td>Salmonella enterica</td>\n",
       "    </tr>\n",
       "    <tr>\n",
       "      <th>6</th>\n",
       "      <td>GCF_002313025.1</td>\n",
       "      <td>Vibrio cholerae</td>\n",
       "    </tr>\n",
       "  </tbody>\n",
       "</table>\n",
       "</div>"
      ],
      "text/plain": [
       "                id                    species\n",
       "0  GCF_002881935.1   Streptococcus agalactiae\n",
       "3  GCF_000013405.1  Syntrophus aciditrophicus\n",
       "4  GCF_000427275.1     Mannheimia haemolytica\n",
       "5  GCF_003325015.1        Salmonella enterica\n",
       "6  GCF_002313025.1            Vibrio cholerae"
      ]
     },
     "execution_count": 7,
     "metadata": {},
     "output_type": "execute_result"
    }
   ],
   "source": [
    "# filter assembly ids by species: get rid of assemblies without a proper or complete species name\n",
    "\n",
    "pairs = pd.DataFrame({'id': ids, 'species': species})\n",
    "pairs_filtered = (\n",
    "    pairs\n",
    "    .groupby('species')\n",
    "    .filter(lambda grp: not (grp.name.endswith('endosymbiont') or grp.name.endswith('sp.')))\n",
    ")\n",
    "pairs_filtered.to_csv('samples.tsv', sep='\\t', index=False)\n",
    "pairs_filtered.head()"
   ]
  },
  {
   "cell_type": "code",
   "execution_count": 8,
   "metadata": {},
   "outputs": [],
   "source": [
    "assembly_stats = pairs_filtered['species'].value_counts()"
   ]
  },
  {
   "cell_type": "code",
   "execution_count": 9,
   "metadata": {},
   "outputs": [],
   "source": [
    "! mkdir -p figures"
   ]
  },
  {
   "cell_type": "code",
   "execution_count": 10,
   "metadata": {},
   "outputs": [
    {
     "data": {
      "image/png": "[encoded data removed]",
      "text/plain": [
       "<Figure size 432x288 with 1 Axes>"
      ]
     },
     "metadata": {
      "needs_background": "light"
     },
     "output_type": "display_data"
    }
   ],
   "source": [
    "coverage = sns.distplot(np.log(assembly_stats) / np.log(2), kde=False, bins=12)\n",
    "coverage.set_xlabel('N assemblies per species, $\\log_2$')\n",
    "coverage.set_ylabel('N species')\n",
    "plt.savefig('figures/coverage.png', dpi=300)\n"
   ]
  },
  {
   "cell_type": "code",
   "execution_count": 31,
   "metadata": {},
   "outputs": [],
   "source": []
  }
 ],
 "metadata": {
  "kernelspec": {
   "display_name": "Python 3",
   "language": "python",
   "name": "python3"
  },
  "language_info": {
   "codemirror_mode": {
    "name": "ipython",
    "version": 3
   },
   "file_extension": ".py",
   "mimetype": "text/x-python",
   "name": "python",
   "nbconvert_exporter": "python",
   "pygments_lexer": "ipython3",
   "version": "3.6.9"
  }
 },
 "nbformat": 4,
 "nbformat_minor": 4
}
