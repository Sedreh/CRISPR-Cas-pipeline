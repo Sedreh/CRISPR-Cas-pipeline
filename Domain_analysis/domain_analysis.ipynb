{
 "cells": [
  {
   "cell_type": "code",
   "execution_count": 1,
   "metadata": {},
   "outputs": [],
   "source": [
    "import typing as t\n",
    "import operator as op\n",
    "import subprocess as sp\n",
    "import glob\n",
    "import os\n",
    "from concurrent.futures import ThreadPoolExecutor, ProcessPoolExecutor\n",
    "from itertools import chain\n",
    "\n",
    "import tqdm\n",
    "import pandas as pd\n",
    "from fn import F\n",
    "from Bio import SearchIO\n",
    "\n",
    "pd.set_option('display.max_rows', 1000)\n",
    "%matplotlib inline"
   ]
  },
  {
   "cell_type": "code",
   "execution_count": 2,
   "metadata": {},
   "outputs": [],
   "source": [
    "samples = pd.read_csv('domains/samples_subsample.tsv', sep='\\t')\n",
    "ids = samples['id']"
   ]
  },
  {
   "cell_type": "code",
   "execution_count": 3,
   "metadata": {},
   "outputs": [
    {
     "name": "stderr",
     "output_type": "stream",
     "text": [
      "100%|██████████| 5961/5961 [00:40<00:00, 146.74it/s]\n"
     ]
    }
   ],
   "source": [
    "def parse_hmmer(path):\n",
    "    return list(filter(bool, SearchIO.parse(path, 'hmmer3-text')))\n",
    "\n",
    "\n",
    "scan_paths = [f'domains/hmmscan/{id_}.txt' for id_ in ids]\n",
    "with ProcessPoolExecutor(20) as workers:\n",
    "    scans = list(tqdm.tqdm(workers.map(parse_hmmer, scan_paths), total=len(scan_paths)))\n"
   ]
  },
  {
   "cell_type": "code",
   "execution_count": null,
   "metadata": {},
   "outputs": [],
   "source": []
  },
  {
   "cell_type": "code",
   "execution_count": 4,
   "metadata": {},
   "outputs": [],
   "source": [
    "def extract_query_annotations(query) -> pd.DataFrame:\n",
    "    hmmscan_annotation_keys = [\n",
    "        'query', 'model', 'description', 'bitscore', 'evalue'\n",
    "    ]\n",
    "    query_id = query.id\n",
    "    hits = query.hits\n",
    "    hit_ids = [hit.id for hit in hits]\n",
    "    hit_descriptions = [hit.description for hit in hits]\n",
    "    hit_scores = [hit.bitscore for hit in hits]\n",
    "    hit_evalues = [hit.evalue for hit in hits]\n",
    "    records = [\n",
    "        [query_id, hit_id, hit_descr, hit_score, hit_eval]\n",
    "        for hit_id, hit_descr, hit_score, hit_eval, in \n",
    "        zip(hit_ids, hit_descriptions, hit_scores, hit_evalues)\n",
    "    ]\n",
    "    return pd.DataFrame(records, columns=hmmscan_annotation_keys)\n",
    "\n",
    "\n",
    "def extract_hmmscan_annotations(sample_id, sample_queries) -> t.Optional[pd.DataFrame]:\n",
    "    query_annotations = (\n",
    "        F(map, extract_query_annotations)\n",
    "        >> list\n",
    "    )(sample_queries)\n",
    "    if not query_annotations:\n",
    "        return None\n",
    "    concatenated = (\n",
    "        F(lambda dfs: pd.concat(dfs) if dfs else empty)\n",
    "        >> (lambda df: df.reset_index(drop=True))\n",
    "    )(query_annotations)\n",
    "    return pd.concat([\n",
    "        pd.Series(sample_id, index=concatenated.index, name='sample'),\n",
    "        concatenated\n",
    "    ], axis=1)\n"
   ]
  },
  {
   "cell_type": "code",
   "execution_count": 5,
   "metadata": {},
   "outputs": [
    {
     "name": "stderr",
     "output_type": "stream",
     "text": [
      "100%|█████████▉| 5955/5961 [01:48<00:00, 54.78it/s] \n"
     ]
    }
   ],
   "source": [
    "with tqdm.tqdm(scans) as scans_:\n",
    "    scan_annotations = [\n",
    "        extract_hmmscan_annotations(id_, scan)\n",
    "        for id_, scan in zip(ids, scans_)\n",
    "    ]\n"
   ]
  },
  {
   "cell_type": "code",
   "execution_count": 6,
   "metadata": {},
   "outputs": [
    {
     "data": {
      "text/html": [
       "<div>\n",
       "<style scoped>\n",
       "    .dataframe tbody tr th:only-of-type {\n",
       "        vertical-align: middle;\n",
       "    }\n",
       "\n",
       "    .dataframe tbody tr th {\n",
       "        vertical-align: top;\n",
       "    }\n",
       "\n",
       "    .dataframe thead th {\n",
       "        text-align: right;\n",
       "    }\n",
       "</style>\n",
       "<table border=\"1\" class=\"dataframe\">\n",
       "  <thead>\n",
       "    <tr style=\"text-align: right;\">\n",
       "      <th></th>\n",
       "      <th>sample</th>\n",
       "      <th>query</th>\n",
       "      <th>model</th>\n",
       "      <th>description</th>\n",
       "      <th>bitscore</th>\n",
       "      <th>evalue</th>\n",
       "    </tr>\n",
       "  </thead>\n",
       "  <tbody>\n",
       "    <tr>\n",
       "      <th>20179</th>\n",
       "      <td>GCF_000005825.2</td>\n",
       "      <td>BPOF4_RS19275</td>\n",
       "      <td>Cas14u</td>\n",
       "      <td></td>\n",
       "      <td>177.9</td>\n",
       "      <td>1.300000e-53</td>\n",
       "    </tr>\n",
       "    <tr>\n",
       "      <th>20178</th>\n",
       "      <td>GCF_000005825.2</td>\n",
       "      <td>BPOF4_RS19275</td>\n",
       "      <td>V_U4</td>\n",
       "      <td></td>\n",
       "      <td>202.2</td>\n",
       "      <td>4.600000e-61</td>\n",
       "    </tr>\n",
       "    <tr>\n",
       "      <th>20180</th>\n",
       "      <td>GCF_000005825.2</td>\n",
       "      <td>BPOF4_RS19275</td>\n",
       "      <td>V_U2</td>\n",
       "      <td></td>\n",
       "      <td>147.2</td>\n",
       "      <td>2.800000e-44</td>\n",
       "    </tr>\n",
       "    <tr>\n",
       "      <th>20181</th>\n",
       "      <td>GCF_000005825.2</td>\n",
       "      <td>BPOF4_RS19275</td>\n",
       "      <td>Type_V_Cas14c</td>\n",
       "      <td></td>\n",
       "      <td>146.7</td>\n",
       "      <td>3.100000e-44</td>\n",
       "    </tr>\n",
       "    <tr>\n",
       "      <th>20182</th>\n",
       "      <td>GCF_000005825.2</td>\n",
       "      <td>BPOF4_RS19275</td>\n",
       "      <td>Cas14c</td>\n",
       "      <td></td>\n",
       "      <td>144.2</td>\n",
       "      <td>1.700000e-43</td>\n",
       "    </tr>\n",
       "  </tbody>\n",
       "</table>\n",
       "</div>"
      ],
      "text/plain": [
       "                sample          query          model description  bitscore  \\\n",
       "20179  GCF_000005825.2  BPOF4_RS19275         Cas14u                 177.9   \n",
       "20178  GCF_000005825.2  BPOF4_RS19275           V_U4                 202.2   \n",
       "20180  GCF_000005825.2  BPOF4_RS19275           V_U2                 147.2   \n",
       "20181  GCF_000005825.2  BPOF4_RS19275  Type_V_Cas14c                 146.7   \n",
       "20182  GCF_000005825.2  BPOF4_RS19275         Cas14c                 144.2   \n",
       "\n",
       "             evalue  \n",
       "20179  1.300000e-53  \n",
       "20178  4.600000e-61  \n",
       "20180  2.800000e-44  \n",
       "20181  3.100000e-44  \n",
       "20182  1.700000e-43  "
      ]
     },
     "execution_count": 6,
     "metadata": {},
     "output_type": "execute_result"
    }
   ],
   "source": [
    "scan_annotations_concat = (\n",
    "    pd.concat([scan for scan in scan_annotations if scan is not None])\n",
    "    .reset_index(drop=True)\n",
    "    .sort_values(['sample'])\n",
    ")\n",
    "scan_annotations_concat.head()"
   ]
  },
  {
   "cell_type": "code",
   "execution_count": 7,
   "metadata": {},
   "outputs": [],
   "source": [
    "scan_annotations_concat.to_csv('domains/sample_domain_annotations.tsv', sep='\\t', index=False)"
   ]
  },
  {
   "cell_type": "code",
   "execution_count": 8,
   "metadata": {},
   "outputs": [],
   "source": [
    "model_counts = (\n",
    "    scan_annotations_concat\n",
    "    .groupby('sample')\n",
    "    .apply(lambda grp: grp['model'].value_counts().to_frame().T)\n",
    "    .reset_index(level=1, drop=True)\n",
    "    .fillna(0)\n",
    ")"
   ]
  },
  {
   "cell_type": "code",
   "execution_count": 9,
   "metadata": {},
   "outputs": [],
   "source": [
    "model_counts.to_csv('domains/sample_domain_counts.tsv', sep='\\t')"
   ]
  },
  {
   "cell_type": "code",
   "execution_count": 10,
   "metadata": {},
   "outputs": [
    {
     "data": {
      "text/html": [
       "<div>\n",
       "<style scoped>\n",
       "    .dataframe tbody tr th:only-of-type {\n",
       "        vertical-align: middle;\n",
       "    }\n",
       "\n",
       "    .dataframe tbody tr th {\n",
       "        vertical-align: top;\n",
       "    }\n",
       "\n",
       "    .dataframe thead th {\n",
       "        text-align: right;\n",
       "    }\n",
       "</style>\n",
       "<table border=\"1\" class=\"dataframe\">\n",
       "  <thead>\n",
       "    <tr style=\"text-align: right;\">\n",
       "      <th></th>\n",
       "      <th>0</th>\n",
       "    </tr>\n",
       "  </thead>\n",
       "  <tbody>\n",
       "    <tr>\n",
       "      <th>1399</th>\n",
       "      <td>12</td>\n",
       "    </tr>\n",
       "    <tr>\n",
       "      <th>1691</th>\n",
       "      <td>13</td>\n",
       "    </tr>\n",
       "    <tr>\n",
       "      <th>535</th>\n",
       "      <td>15</td>\n",
       "    </tr>\n",
       "    <tr>\n",
       "      <th>547</th>\n",
       "      <td>15</td>\n",
       "    </tr>\n",
       "    <tr>\n",
       "      <th>13</th>\n",
       "      <td>17</td>\n",
       "    </tr>\n",
       "    <tr>\n",
       "      <th>9</th>\n",
       "      <td>18</td>\n",
       "    </tr>\n",
       "    <tr>\n",
       "      <th>491</th>\n",
       "      <td>23</td>\n",
       "    </tr>\n",
       "    <tr>\n",
       "      <th>589</th>\n",
       "      <td>41</td>\n",
       "    </tr>\n",
       "    <tr>\n",
       "      <th>144</th>\n",
       "      <td>77</td>\n",
       "    </tr>\n",
       "    <tr>\n",
       "      <th>87</th>\n",
       "      <td>190</td>\n",
       "    </tr>\n",
       "  </tbody>\n",
       "</table>\n",
       "</div>"
      ],
      "text/plain": [
       "        0\n",
       "1399   12\n",
       "1691   13\n",
       "535    15\n",
       "547    15\n",
       "13     17\n",
       "9      18\n",
       "491    23\n",
       "589    41\n",
       "144    77\n",
       "87    190"
      ]
     },
     "execution_count": 10,
     "metadata": {},
     "output_type": "execute_result"
    }
   ],
   "source": [
    "(\n",
    "    model_counts\n",
    "    .fillna(0)\n",
    "    .groupby(list(scan_annotations_concat['model'].unique()))\n",
    "    .apply(len)\n",
    "    .reset_index(drop=True)\n",
    "    .sort_values()\n",
    "    .to_frame()\n",
    "    .tail(10)\n",
    ")"
   ]
  },
  {
   "cell_type": "code",
   "execution_count": 11,
   "metadata": {},
   "outputs": [
    {
     "data": {
      "text/plain": [
       "<matplotlib.axes._subplots.AxesSubplot at 0x7f43718f3668>"
      ]
     },
     "execution_count": 11,
     "metadata": {},
     "output_type": "execute_result"
    },
    {
     "data": {
      "image/png": "[encoded data removed]",
      "text/plain": [
       "<Figure size 432x288 with 1 Axes>"
      ]
     },
     "metadata": {
      "needs_background": "light"
     },
     "output_type": "display_data"
    }
   ],
   "source": [
    "(\n",
    "    model_counts\n",
    "    .sum(axis=1)\n",
    "    .plot.hist(bins=200, xlim=(0, 200))\n",
    ")"
   ]
  },
  {
   "cell_type": "code",
   "execution_count": null,
   "metadata": {},
   "outputs": [],
   "source": []
  }
 ],
 "metadata": {
  "kernelspec": {
   "display_name": "Python 3",
   "language": "python",
   "name": "python3"
  },
  "language_info": {
   "codemirror_mode": {
    "name": "ipython",
    "version": 3
   },
   "file_extension": ".py",
   "mimetype": "text/x-python",
   "name": "python",
   "nbconvert_exporter": "python",
   "pygments_lexer": "ipython3",
   "version": "3.6.7"
  }
 },
 "nbformat": 4,
 "nbformat_minor": 4
}
