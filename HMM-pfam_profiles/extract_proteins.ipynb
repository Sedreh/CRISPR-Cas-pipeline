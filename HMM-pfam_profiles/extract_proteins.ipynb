{
 "cells": [
  {
   "cell_type": "code",
   "execution_count": 1,
   "metadata": {},
   "outputs": [],
   "source": [
    "import glob\n",
    "import gzip\n",
    "import os\n",
    "import re\n",
    "import typing as t\n",
    "from itertools import chain\n",
    "from concurrent.futures import ProcessPoolExecutor\n",
    "\n",
    "import tqdm\n",
    "import pandas as pd\n",
    "from Bio import SeqIO\n",
    "from Bio.SeqRecord import SeqRecord\n",
    "from Bio.SeqFeature import SeqFeature\n",
    "from Bio.Seq import Seq"
   ]
  },
  {
   "cell_type": "code",
   "execution_count": 2,
   "metadata": {},
   "outputs": [],
   "source": [
    "os.chdir(\"/home/is6/work/cas_thesis/new_domains\")"
   ]
  },
  {
   "cell_type": "code",
   "execution_count": 4,
   "metadata": {},
   "outputs": [],
   "source": [
    "def feat_to_seqrec(feature: SeqFeature) -> t.Optional[SeqRecord]:\n",
    "    qualifiers = feature.qualifiers\n",
    "    try:\n",
    "        locustag = qualifiers['locus_tag'][0]\n",
    "        translation = qualifiers['translation'][0]\n",
    "        seq = Seq(translation)\n",
    "        return SeqRecord(id=locustag, name='', description='', seq=seq)\n",
    "    except KeyError:\n",
    "        return None\n",
    "\n",
    "\n",
    "def extract_proteins(contig: SeqRecord) -> t.List[SeqRecord]:\n",
    "    cds = (feat for feat in contig.features if feat.type == 'CDS')\n",
    "    return list(filter(bool, map(feat_to_seqrec, cds)))\n"
   ]
  },
  {
   "cell_type": "code",
   "execution_count": 5,
   "metadata": {},
   "outputs": [],
   "source": [
    "os.makedirs('proteins', exist_ok=True)"
   ]
  },
  {
   "cell_type": "code",
   "execution_count": 6,
   "metadata": {},
   "outputs": [],
   "source": [
    "samples = pd.read_csv('samples.tsv', sep='\\t')\n",
    "ids = samples['id']\n",
    "\n",
    "annotation_root = 'assemblies'\n",
    "annotation_paths = [glob.glob(f'{annotation_root}/{id_}*.gbff.gz')[0] for id_ in ids]\n",
    "\n",
    "protein_root = 'proteins'\n",
    "protein_paths = [f'{protein_root}/{id_}.faa' for id_ in ids]"
   ]
  },
  {
   "cell_type": "code",
   "execution_count": 7,
   "metadata": {},
   "outputs": [
    {
     "name": "stderr",
     "output_type": "stream",
     "text": [
      "100%|██████████| 18207/18207 [34:10<00:00,  8.88it/s]  \n"
     ]
    }
   ],
   "source": [
    "def genbank_to_proteins(input_: str, output: str) -> t.List[SeqRecord]:\n",
    "    compressed = input_.endswith('gz')\n",
    "    open_ = (lambda path: gzip.open(path, 'rt')) if compressed else open\n",
    "    with open_(input_) as buffer:\n",
    "        contigs = SeqIO.parse(buffer, 'gb')\n",
    "        proteins = chain.from_iterable(map(extract_proteins, contigs))\n",
    "        SeqIO.write(proteins, output, 'fasta')\n",
    "\n",
    "\n",
    "with ProcessPoolExecutor(20) as workers:\n",
    "    list(tqdm.tqdm(workers.map(genbank_to_proteins, annotation_paths, protein_paths), total=len(samples)))\n",
    "    "
   ]
  },
  {
   "cell_type": "code",
   "execution_count": null,
   "metadata": {},
   "outputs": [],
   "source": []
  }
 ],
 "metadata": {
  "kernelspec": {
   "display_name": "Python 3",
   "language": "python",
   "name": "python3"
  },
  "language_info": {
   "codemirror_mode": {
    "name": "ipython",
    "version": 3
   },
   "file_extension": ".py",
   "mimetype": "text/x-python",
   "name": "python",
   "nbconvert_exporter": "python",
   "pygments_lexer": "ipython3",
   "version": "3.6.7"
  }
 },
 "nbformat": 4,
 "nbformat_minor": 4
}
