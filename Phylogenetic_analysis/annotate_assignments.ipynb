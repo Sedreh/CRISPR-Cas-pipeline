{
 "cells": [
  {
   "cell_type": "code",
   "execution_count": 1,
   "metadata": {},
   "outputs": [],
   "source": [
    "import re\n",
    "import typing as t\n",
    "\n",
    "import numpy as np\n",
    "import pandas as pd\n"
   ]
  },
  {
   "cell_type": "code",
   "execution_count": 2,
   "metadata": {},
   "outputs": [
    {
     "data": {
      "text/html": [
       "<div>\n",
       "<style scoped>\n",
       "    .dataframe tbody tr th:only-of-type {\n",
       "        vertical-align: middle;\n",
       "    }\n",
       "\n",
       "    .dataframe tbody tr th {\n",
       "        vertical-align: top;\n",
       "    }\n",
       "\n",
       "    .dataframe thead th {\n",
       "        text-align: right;\n",
       "    }\n",
       "</style>\n",
       "<table border=\"1\" class=\"dataframe\">\n",
       "  <thead>\n",
       "    <tr style=\"text-align: right;\">\n",
       "      <th></th>\n",
       "      <th>id</th>\n",
       "      <th>component</th>\n",
       "    </tr>\n",
       "  </thead>\n",
       "  <tbody>\n",
       "    <tr>\n",
       "      <th>0</th>\n",
       "      <td>GCF_000006605.1</td>\n",
       "      <td>1</td>\n",
       "    </tr>\n",
       "    <tr>\n",
       "      <th>1</th>\n",
       "      <td>GCF_000006985.1</td>\n",
       "      <td>8</td>\n",
       "    </tr>\n",
       "    <tr>\n",
       "      <th>2</th>\n",
       "      <td>GCF_000007085.1</td>\n",
       "      <td>3</td>\n",
       "    </tr>\n",
       "    <tr>\n",
       "      <th>3</th>\n",
       "      <td>GCF_000007425.1</td>\n",
       "      <td>5</td>\n",
       "    </tr>\n",
       "    <tr>\n",
       "      <th>4</th>\n",
       "      <td>GCF_000007465.2</td>\n",
       "      <td>10</td>\n",
       "    </tr>\n",
       "  </tbody>\n",
       "</table>\n",
       "</div>"
      ],
      "text/plain": [
       "                id  component\n",
       "0  GCF_000006605.1          1\n",
       "1  GCF_000006985.1          8\n",
       "2  GCF_000007085.1          3\n",
       "3  GCF_000007425.1          5\n",
       "4  GCF_000007465.2         10"
      ]
     },
     "execution_count": 2,
     "metadata": {},
     "output_type": "execute_result"
    }
   ],
   "source": [
    "assignments = pd.read_csv('domains_pfam/assigned_components.tsv', sep='\\t', header=None, names=['id', 'component'])\n",
    "assignments.head()"
   ]
  },
  {
   "cell_type": "code",
   "execution_count": 3,
   "metadata": {},
   "outputs": [
    {
     "data": {
      "text/html": [
       "<div>\n",
       "<style scoped>\n",
       "    .dataframe tbody tr th:only-of-type {\n",
       "        vertical-align: middle;\n",
       "    }\n",
       "\n",
       "    .dataframe tbody tr th {\n",
       "        vertical-align: top;\n",
       "    }\n",
       "\n",
       "    .dataframe thead th {\n",
       "        text-align: right;\n",
       "    }\n",
       "</style>\n",
       "<table border=\"1\" class=\"dataframe\">\n",
       "  <thead>\n",
       "    <tr style=\"text-align: right;\">\n",
       "      <th></th>\n",
       "      <th>species</th>\n",
       "    </tr>\n",
       "    <tr>\n",
       "      <th>id</th>\n",
       "      <th></th>\n",
       "    </tr>\n",
       "  </thead>\n",
       "  <tbody>\n",
       "    <tr>\n",
       "      <th>GCF_002881935.1</th>\n",
       "      <td>Streptococcus agalactiae</td>\n",
       "    </tr>\n",
       "    <tr>\n",
       "      <th>GCF_000013405.1</th>\n",
       "      <td>Syntrophus aciditrophicus</td>\n",
       "    </tr>\n",
       "    <tr>\n",
       "      <th>GCF_000427275.1</th>\n",
       "      <td>Mannheimia haemolytica</td>\n",
       "    </tr>\n",
       "    <tr>\n",
       "      <th>GCF_003325015.1</th>\n",
       "      <td>Salmonella enterica</td>\n",
       "    </tr>\n",
       "    <tr>\n",
       "      <th>GCF_002313025.1</th>\n",
       "      <td>Vibrio cholerae</td>\n",
       "    </tr>\n",
       "  </tbody>\n",
       "</table>\n",
       "</div>"
      ],
      "text/plain": [
       "                                   species\n",
       "id                                        \n",
       "GCF_002881935.1   Streptococcus agalactiae\n",
       "GCF_000013405.1  Syntrophus aciditrophicus\n",
       "GCF_000427275.1     Mannheimia haemolytica\n",
       "GCF_003325015.1        Salmonella enterica\n",
       "GCF_002313025.1            Vibrio cholerae"
      ]
     },
     "execution_count": 3,
     "metadata": {},
     "output_type": "execute_result"
    }
   ],
   "source": [
    "samples = pd.read_csv('samples.tsv', sep='\\t', index_col=0)\n",
    "samples.head()"
   ]
  },
  {
   "cell_type": "code",
   "execution_count": 4,
   "metadata": {},
   "outputs": [],
   "source": [
    "def extract_genus(species: str) -> t.Optional[str]:\n",
    "    \"\"\"\n",
    "    Edit for proper tree rendering\n",
    "    \"\"\"\n",
    "    if species[0].islower():\n",
    "        return None\n",
    "    is_invalid = '[' in species\n",
    "    is_candidatus = 'Candidatus' in species\n",
    "    if is_invalid and is_candidatus:\n",
    "        raise AssertionError\n",
    "    genus = (\n",
    "        ' '.join(species.split()[:2]) if is_candidatus else \n",
    "        species.split()[0]\n",
    "    )\n",
    "    genus_renamed = ('Invalid ' if is_invalid else '') + re.sub(\"[\\[\\]']\", '', genus)\n",
    "    return genus_renamed.replace(' ', '_')\n",
    "    \n",
    "\n",
    "id_to_genus = dict(samples['species'].apply(extract_genus).iteritems())"
   ]
  },
  {
   "cell_type": "code",
   "execution_count": 5,
   "metadata": {},
   "outputs": [],
   "source": [
    "assignments['genus_renamed'] = assignments['id'].apply(id_to_genus.get).apply(lambda x: np.nan if x is None else x)"
   ]
  },
  {
   "cell_type": "code",
   "execution_count": 6,
   "metadata": {},
   "outputs": [
    {
     "data": {
      "text/html": [
       "<div>\n",
       "<style scoped>\n",
       "    .dataframe tbody tr th:only-of-type {\n",
       "        vertical-align: middle;\n",
       "    }\n",
       "\n",
       "    .dataframe tbody tr th {\n",
       "        vertical-align: top;\n",
       "    }\n",
       "\n",
       "    .dataframe thead th {\n",
       "        text-align: right;\n",
       "    }\n",
       "</style>\n",
       "<table border=\"1\" class=\"dataframe\">\n",
       "  <thead>\n",
       "    <tr style=\"text-align: right;\">\n",
       "      <th></th>\n",
       "      <th>id</th>\n",
       "      <th>component</th>\n",
       "      <th>genus_renamed</th>\n",
       "    </tr>\n",
       "  </thead>\n",
       "  <tbody>\n",
       "    <tr>\n",
       "      <th>0</th>\n",
       "      <td>GCF_000006605.1</td>\n",
       "      <td>1</td>\n",
       "      <td>Corynebacterium</td>\n",
       "    </tr>\n",
       "    <tr>\n",
       "      <th>1</th>\n",
       "      <td>GCF_000006985.1</td>\n",
       "      <td>8</td>\n",
       "      <td>Chlorobium</td>\n",
       "    </tr>\n",
       "    <tr>\n",
       "      <th>2</th>\n",
       "      <td>GCF_000007085.1</td>\n",
       "      <td>3</td>\n",
       "      <td>Caldanaerobacter</td>\n",
       "    </tr>\n",
       "    <tr>\n",
       "      <th>3</th>\n",
       "      <td>GCF_000007425.1</td>\n",
       "      <td>5</td>\n",
       "      <td>Streptococcus</td>\n",
       "    </tr>\n",
       "    <tr>\n",
       "      <th>4</th>\n",
       "      <td>GCF_000007465.2</td>\n",
       "      <td>10</td>\n",
       "      <td>Streptococcus</td>\n",
       "    </tr>\n",
       "  </tbody>\n",
       "</table>\n",
       "</div>"
      ],
      "text/plain": [
       "                id  component     genus_renamed\n",
       "0  GCF_000006605.1          1   Corynebacterium\n",
       "1  GCF_000006985.1          8        Chlorobium\n",
       "2  GCF_000007085.1          3  Caldanaerobacter\n",
       "3  GCF_000007425.1          5     Streptococcus\n",
       "4  GCF_000007465.2         10     Streptococcus"
      ]
     },
     "execution_count": 6,
     "metadata": {},
     "output_type": "execute_result"
    }
   ],
   "source": [
    "assignments_complete = assignments.dropna()\n",
    "assignments_complete.head()"
   ]
  },
  {
   "cell_type": "code",
   "execution_count": 7,
   "metadata": {},
   "outputs": [
    {
     "data": {
      "text/plain": [
       "((1945, 3), (1939, 3))"
      ]
     },
     "execution_count": 7,
     "metadata": {},
     "output_type": "execute_result"
    }
   ],
   "source": [
    "assignments.shape, assignments_complete.shape"
   ]
  },
  {
   "cell_type": "code",
   "execution_count": 8,
   "metadata": {},
   "outputs": [],
   "source": [
    "assignments_complete.to_csv('domains_pfam/assigned_components_annotated_filt.tsv', sep='\\t', index=False)"
   ]
  },
  {
   "cell_type": "code",
   "execution_count": null,
   "metadata": {},
   "outputs": [],
   "source": []
  }
 ],
 "metadata": {
  "kernelspec": {
   "display_name": "Python 3",
   "language": "python",
   "name": "python3"
  },
  "language_info": {
   "codemirror_mode": {
    "name": "ipython",
    "version": 3
   },
   "file_extension": ".py",
   "mimetype": "text/x-python",
   "name": "python",
   "nbconvert_exporter": "python",
   "pygments_lexer": "ipython3",
   "version": "3.6.9"
  }
 },
 "nbformat": 4,
 "nbformat_minor": 4
}
