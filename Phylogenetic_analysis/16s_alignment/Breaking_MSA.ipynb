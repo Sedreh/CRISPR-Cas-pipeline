{
 "cells": [
  {
   "cell_type": "code",
   "execution_count": 1,
   "metadata": {},
   "outputs": [],
   "source": [
    "import pandas as pd\n",
    "import numpy as np\n",
    "from Bio import SeqIO\n",
    "import os\n",
    "import subprocess\n"
   ]
  },
  {
   "cell_type": "code",
   "execution_count": 2,
   "metadata": {},
   "outputs": [],
   "source": [
    "os.chdir(\"/home/is6/work/cas_thesis/16s_extraction/final_round/thesis_results\")"
   ]
  },
  {
   "cell_type": "code",
   "execution_count": 3,
   "metadata": {},
   "outputs": [],
   "source": [
    "components = pd.read_csv('/home/ilia/projects/misc/sedreh/domains_pfam/assigned_components_annotated_filt.tsv', sep='\\t')"
   ]
  },
  {
   "cell_type": "code",
   "execution_count": 4,
   "metadata": {},
   "outputs": [
    {
     "data": {
      "text/html": [
       "<div>\n",
       "<style scoped>\n",
       "    .dataframe tbody tr th:only-of-type {\n",
       "        vertical-align: middle;\n",
       "    }\n",
       "\n",
       "    .dataframe tbody tr th {\n",
       "        vertical-align: top;\n",
       "    }\n",
       "\n",
       "    .dataframe thead th {\n",
       "        text-align: right;\n",
       "    }\n",
       "</style>\n",
       "<table border=\"1\" class=\"dataframe\">\n",
       "  <thead>\n",
       "    <tr style=\"text-align: right;\">\n",
       "      <th></th>\n",
       "      <th>id</th>\n",
       "      <th>component</th>\n",
       "      <th>genus_renamed</th>\n",
       "    </tr>\n",
       "  </thead>\n",
       "  <tbody>\n",
       "    <tr>\n",
       "      <th>0</th>\n",
       "      <td>GCF_000006605.1</td>\n",
       "      <td>1</td>\n",
       "      <td>Corynebacterium</td>\n",
       "    </tr>\n",
       "    <tr>\n",
       "      <th>1</th>\n",
       "      <td>GCF_000006985.1</td>\n",
       "      <td>8</td>\n",
       "      <td>Chlorobium</td>\n",
       "    </tr>\n",
       "    <tr>\n",
       "      <th>2</th>\n",
       "      <td>GCF_000007085.1</td>\n",
       "      <td>3</td>\n",
       "      <td>Caldanaerobacter</td>\n",
       "    </tr>\n",
       "    <tr>\n",
       "      <th>3</th>\n",
       "      <td>GCF_000007425.1</td>\n",
       "      <td>5</td>\n",
       "      <td>Streptococcus</td>\n",
       "    </tr>\n",
       "    <tr>\n",
       "      <th>4</th>\n",
       "      <td>GCF_000007465.2</td>\n",
       "      <td>10</td>\n",
       "      <td>Streptococcus</td>\n",
       "    </tr>\n",
       "  </tbody>\n",
       "</table>\n",
       "</div>"
      ],
      "text/plain": [
       "                id  component     genus_renamed\n",
       "0  GCF_000006605.1          1   Corynebacterium\n",
       "1  GCF_000006985.1          8        Chlorobium\n",
       "2  GCF_000007085.1          3  Caldanaerobacter\n",
       "3  GCF_000007425.1          5     Streptococcus\n",
       "4  GCF_000007465.2         10     Streptococcus"
      ]
     },
     "execution_count": 4,
     "metadata": {},
     "output_type": "execute_result"
    }
   ],
   "source": [
    "components.head()"
   ]
  },
  {
   "cell_type": "code",
   "execution_count": 5,
   "metadata": {},
   "outputs": [],
   "source": [
    "groups = pd.DataFrame(components.groupby(['genus_renamed'], as_index=False, sort=False).agg(' '.join))"
   ]
  },
  {
   "cell_type": "code",
   "execution_count": 6,
   "metadata": {
    "scrolled": true
   },
   "outputs": [
    {
     "data": {
      "text/html": [
       "<div>\n",
       "<style scoped>\n",
       "    .dataframe tbody tr th:only-of-type {\n",
       "        vertical-align: middle;\n",
       "    }\n",
       "\n",
       "    .dataframe tbody tr th {\n",
       "        vertical-align: top;\n",
       "    }\n",
       "\n",
       "    .dataframe thead th {\n",
       "        text-align: right;\n",
       "    }\n",
       "</style>\n",
       "<table border=\"1\" class=\"dataframe\">\n",
       "  <thead>\n",
       "    <tr style=\"text-align: right;\">\n",
       "      <th></th>\n",
       "      <th>genus_renamed</th>\n",
       "      <th>id</th>\n",
       "    </tr>\n",
       "  </thead>\n",
       "  <tbody>\n",
       "    <tr>\n",
       "      <th>0</th>\n",
       "      <td>Corynebacterium</td>\n",
       "      <td>GCF_000006605.1 GCF_000022905.1 GCF_000069945....</td>\n",
       "    </tr>\n",
       "    <tr>\n",
       "      <th>1</th>\n",
       "      <td>Chlorobium</td>\n",
       "      <td>GCF_000006985.1 GCF_000012585.1 GCF_000015125....</td>\n",
       "    </tr>\n",
       "    <tr>\n",
       "      <th>2</th>\n",
       "      <td>Caldanaerobacter</td>\n",
       "      <td>GCF_000007085.1</td>\n",
       "    </tr>\n",
       "    <tr>\n",
       "      <th>3</th>\n",
       "      <td>Streptococcus</td>\n",
       "      <td>GCF_000007425.1 GCF_000007465.2 GCF_000014205....</td>\n",
       "    </tr>\n",
       "    <tr>\n",
       "      <th>4</th>\n",
       "      <td>Porphyromonas</td>\n",
       "      <td>GCF_000007585.1 GCF_000212375.1 GCF_000739415....</td>\n",
       "    </tr>\n",
       "  </tbody>\n",
       "</table>\n",
       "</div>"
      ],
      "text/plain": [
       "      genus_renamed                                                 id\n",
       "0   Corynebacterium  GCF_000006605.1 GCF_000022905.1 GCF_000069945....\n",
       "1        Chlorobium  GCF_000006985.1 GCF_000012585.1 GCF_000015125....\n",
       "2  Caldanaerobacter                                    GCF_000007085.1\n",
       "3     Streptococcus  GCF_000007425.1 GCF_000007465.2 GCF_000014205....\n",
       "4     Porphyromonas  GCF_000007585.1 GCF_000212375.1 GCF_000739415...."
      ]
     },
     "execution_count": 6,
     "metadata": {},
     "output_type": "execute_result"
    }
   ],
   "source": [
    "groups.head()"
   ]
  },
  {
   "cell_type": "code",
   "execution_count": 7,
   "metadata": {
    "scrolled": true
   },
   "outputs": [
    {
     "data": {
      "text/plain": [
       "pandas.core.series.Series"
      ]
     },
     "execution_count": 7,
     "metadata": {},
     "output_type": "execute_result"
    }
   ],
   "source": [
    "type(groups.id)\n",
    "    "
   ]
  },
  {
   "cell_type": "code",
   "execution_count": 8,
   "metadata": {},
   "outputs": [],
   "source": [
    "#for items in groups.id.iteritems():\n",
    "#    for ids in items:     "
   ]
  },
  {
   "cell_type": "code",
   "execution_count": 19,
   "metadata": {},
   "outputs": [
    {
     "name": "stdout",
     "output_type": "stream",
     "text": [
      "16S_alignment_final.bacteria.afa       16S_alignment_final.ssu-align.log\r\n",
      "16S_alignment_final.bacteria.cmalign   16S_alignment_final.ssu-align.sum\r\n",
      "16S_alignment_final.bacteria.fa        16S_alignment_final.ssu-mask.log\r\n",
      "16S_alignment_final.bacteria.hitlist   16S_alignment_final.ssu-mask.sum\r\n",
      "16S_alignment_final.bacteria.ifile     16S_alignment_final.tab\r\n",
      "16S_alignment_final.bacteria.mask      aligned.cons\r\n",
      "16S_alignment_final.bacteria.mask.fsa  bacteria_final_tree\r\n",
      "16S_alignment_final.bacteria.mask.pdf  Breaking_MSA.ipynb\r\n",
      "16S_alignment_final.bacteria.mask.stk  \u001b[0m\u001b[01;34mGenus_chunk\u001b[0m/\r\n",
      "16S_alignment_final.bacteria.stk       logfile\r\n",
      "16S_alignment_final.scores             untitled.txt\r\n"
     ]
    }
   ],
   "source": [
    "ls /home/is6/work/cas_thesis/16s_extraction/16S_alignment_final "
   ]
  },
  {
   "cell_type": "code",
   "execution_count": 11,
   "metadata": {},
   "outputs": [],
   "source": [
    "input_file = '/home/is6/work/cas_thesis/16s_extraction/final_round/thesis_results/16S_falignment/16S_alignment.bacteria.mask.fasta'"
   ]
  },
  {
   "cell_type": "code",
   "execution_count": 12,
   "metadata": {},
   "outputs": [],
   "source": [
    "#item = list(SeqIO.parse(\"16S_alignment_final.bacteria.mask.fsa\", \"fasta\"))\n",
    "#item.c.split(' ')"
   ]
  },
  {
   "cell_type": "code",
   "execution_count": 9,
   "metadata": {},
   "outputs": [
    {
     "data": {
      "text/plain": [
       "array(['Acetobacter', 'Acetobacteraceae', 'Acetobacterium',\n",
       "       'Acetohalobium', 'Acetomicrobium', 'Achromobacter',\n",
       "       'Acidaminococcus', 'Acidihalobacter', 'Acidimicrobium',\n",
       "       'Acidiphilium', 'Acidipropionibacterium', 'Acidobacterium',\n",
       "       'Acidothermus', 'Acidovorax', 'Acinetobacter', 'Actinoalloteichus',\n",
       "       'Actinobacillus', 'Actinobacteria', 'Actinomadura', 'Actinomyces',\n",
       "       'Actinoplanes', 'Actinopolymorpha', 'Actinopolyspora',\n",
       "       'Actinosynnema', 'Actinotignum', 'Aeribacillus', 'Aerococcaceae',\n",
       "       'Aerococcus', 'Aeromonas', 'Agarilytica', 'Aggregatibacter',\n",
       "       'Ahniella', 'Akkermansia', 'Alcanivorax', 'Alicyclobacillus',\n",
       "       'Aliivibrio', 'Alkalilimnicola', 'Alkaliphilus', 'Alkalitalea',\n",
       "       'Allochromatium', 'Allokutzneria', 'Aminobacterium', 'Aminomonas',\n",
       "       'Ammonifex', 'Amycolatopsis', 'Anabaena', 'Anabaenopsis',\n",
       "       'Anaerococcus', 'Anaerolinea', 'Anaerolineaceae',\n",
       "       'Anaeromyxobacter', 'Anaerostipes', 'Anoxybacillus', 'Anoxybacter',\n",
       "       'Aquifex', 'Aquiflexum', 'Aquisphaera', 'Aquitalea', 'Arabia',\n",
       "       'Arachidicoccus', 'Arcanobacterium', 'Archangium', 'Arcobacter',\n",
       "       'Ardenticatena', 'Aromatoleum', 'Arthrospira', 'Atlantibacter',\n",
       "       'Aulosira', 'Auraticoccus', 'Austwickia', 'Azoarcus',\n",
       "       'Azospirillum', 'Azotobacter', 'Bacillus', 'Bacterium',\n",
       "       'Bacteroides', 'Barnesiella', 'Basilea', 'Beijerinckiaceae',\n",
       "       'Belliella', 'Bernardetia', 'Beutenbergia', 'Bibersteinia',\n",
       "       'Bifidobacterium', 'Blastochloris', 'Blautia', 'Brachyspira',\n",
       "       'Bradymonadales', 'Bradymonas', 'Brevibacillus', 'Brevibacterium',\n",
       "       'Brochothrix', 'Butyrivibrio', 'Caldanaerobacter',\n",
       "       'Caldicellulosiruptor', 'Caldilinea', 'Caldisericum',\n",
       "       'Calditerrivibrio', 'Caldithrix', 'Calothrix', 'Caminibacter',\n",
       "       'Campylobacter', 'CandidatusAccumulibacter',\n",
       "       'CandidatusCloacimonas', 'CandidatusCyclonatronum',\n",
       "       'CandidatusDesulfofervidus', 'CandidatusDesulforudis',\n",
       "       'CandidatusEndomicrobium', 'CandidatusGracilibacteria',\n",
       "       'CandidatusKuenenia', 'CandidatusMethylospira',\n",
       "       'CandidatusNitrosoglobus', 'CandidatusNitrospira',\n",
       "       'CandidatusSymbiobacter', 'CandidatusSyntrophocurvum',\n",
       "       'CandidatusThiodictyon', 'Capnocytophaga', 'Carboxydocella',\n",
       "       'Carboxydothermus', 'Cardiobacterium', 'Castellaniella',\n",
       "       'Catenulispora', 'Celeribacter', 'Cellulomonas',\n",
       "       'Cellulosimicrobium', 'Cellvibrio', 'Cetia', 'Chamaesiphon',\n",
       "       'Chelatococcus', 'Chitinolyticbacter', 'Chitinophaga',\n",
       "       'Chloracidobacterium', 'Chlorobaculum', 'Chlorobium',\n",
       "       'Chloroflexus', 'Chloroherpeton', 'Chondromyces',\n",
       "       'Chromobacterium', 'Chromohalobacter', 'Chryseobacterium',\n",
       "       'Citrobacter', 'Clavibacter', 'Cloacibacillus', 'Clostridiales',\n",
       "       'Clostridioides', 'Clostridium', 'Cnuibacter', 'Comamonas',\n",
       "       'Conexibacter', 'Coriobacteriaceae', 'Coriobacterium',\n",
       "       'Corynebacterium', 'Crinalium', 'Crocosphaera', 'Cronobacter',\n",
       "       'Cutibacterium', 'Cyanobacterium', 'Cyclobacterium',\n",
       "       'Cycloclasticus', 'Cylindrospermum', 'Cytophagales',\n",
       "       'Deferribacter', 'Defluviimonas', 'Dehalobacterium', 'Deinococcus',\n",
       "       'Delftia', 'Denitrovibrio', 'Dermatophilus', 'Desulfallas',\n",
       "       'Desulfarculus', 'Desulfatibacillum', 'Desulfitobacterium',\n",
       "       'Desulfobacca', 'Desulfobacter', 'Desulfobacterium',\n",
       "       'Desulfobacula', 'Desulfobulbus', 'Desulfocapsa', 'Desulfococcus',\n",
       "       'Desulfofarcimen', 'Desulfoglaeba', 'Desulfomicrobium',\n",
       "       'Desulfomonile', 'Desulfosarcina', 'Desulfosporosinus',\n",
       "       'Desulfotomaculum', 'Desulfovibrio', 'Desulfurella',\n",
       "       'Desulfurispirillum', 'Desulfurivibrio', 'Dickeya', 'Dictyoglomus',\n",
       "       'Dinoroseobacter', 'Dokdonella', 'Dolichospermum',\n",
       "       'Dolosigranulum', 'Ectothiorhodospira', 'Edwardsiella',\n",
       "       'Eggerthella', 'Egibacter', 'Elizabethkingia', 'Endomicrobium',\n",
       "       'Endozoicomonas', 'Enterobacter', 'Enterobacteriaceae',\n",
       "       'Enterococcus', 'Erwinia', 'Erysipelotrichaceae', 'Escherichia',\n",
       "       'Ethanoligenens', 'Eubacterium', 'Euhalothece', 'Exiguobacterium',\n",
       "       'Ezakiella', 'Faecalibacterium', 'Faecalibaculum',\n",
       "       'Fervidobacterium', 'Fibrobacter', 'Filifactor', 'Finegoldia',\n",
       "       'Flavobacterium', 'Flavonifractor', 'Flexistipes', 'Fluviicola',\n",
       "       'Frankia', 'Fremyella', 'Friedmanniella', 'Fusobacterium',\n",
       "       'Gallibacterium', 'Gammaproteobacteria', 'Gardnerella', 'Gemella',\n",
       "       'Geminocystis', 'Gemmata', 'Geoalkalibacter', 'Geobacillus',\n",
       "       'Geobacter', 'Geosporobacter', 'Geovibrio', 'Gilliamella',\n",
       "       'Gloeobacter', 'Gloeomargarita', 'Gloeothece', 'Gluconacetobacter',\n",
       "       'Gluconobacter', 'Gordonia', 'Gordonibacter', 'Gottschalkia',\n",
       "       'Granulibacter', 'Guyparkeria', 'Gynuella', 'Haematobacter',\n",
       "       'Haemophilus', 'Hahella', 'Halanaerobium', 'Haliangium',\n",
       "       'Haliscomenobacter', 'Halobacteroides', 'Halocynthiibacter',\n",
       "       'Halomicronema', 'Halomonas', 'Halorhodospira', 'Halotalea',\n",
       "       'Halothermothrix', 'Halothiobacillus', 'Helicobacter',\n",
       "       'Heliobacterium', 'Heliorestis', 'Herbinix', 'Hungateiclostridium',\n",
       "       'Hungatella', 'Hydrogenobacter', 'Hydrogenophaga',\n",
       "       'Hydrogenophilus', 'Hyphomicrobium', 'Iamiaceae',\n",
       "       'Ignavibacterium', 'Immundisolibacter', 'Inhella',\n",
       "       'Intestinimonas', 'Isosphaera', 'Janthinobacterium', 'Jiangella',\n",
       "       'Jonquetella', 'Ketogulonicigenium', 'Kibdelosporangium',\n",
       "       'Kineococcus', 'Kiritimatiella', 'Kitasatospora', 'Klebsiella',\n",
       "       'Komagataeibacter', 'Kosakonia', 'Kosmotoga', 'Kribbella',\n",
       "       'Ktedonobacterales', 'Kurthia', 'Kushneria', 'Kutzneria',\n",
       "       'Kyrpidia', 'Laceyella', 'Lachnoanaerobaculum', 'Lachnospiraceae',\n",
       "       'Lactobacillus', 'Lactococcus', 'Lautropia', 'Lawsonella',\n",
       "       'Leclercia', 'Legionella', 'Leifsonia', 'Leminorella', 'Lentzea',\n",
       "       'Leptospira', 'Leptothrix', 'Leptotrichia', 'Leuconostoc',\n",
       "       'Limnobaculum', 'Limnochorda', 'Limnospira', 'Listeria',\n",
       "       'Luteipulveratus', 'Lysinibacillus', 'Magnetococcus', 'Mahella',\n",
       "       'Mannheimia', 'Marichromatium', 'Mariniblastus', 'Marinithermus',\n",
       "       'Marinitoga', 'Marinobacterium', 'Marinomonas', 'Megamonas',\n",
       "       'Megasphaera', 'Meiothermus', 'Melioribacter', 'Melissococcus',\n",
       "       'Mesotoga', 'Methylacidiphilum', 'Methylobacillus',\n",
       "       'Methylobacterium', 'Methylocaldum', 'Methylococcus',\n",
       "       'Methylocystis', 'Methylomicrobium', 'Methylomonas', 'Methylomusa',\n",
       "       'Methylophaga', 'Methylosinus', 'Methylovulum', 'Microbacterium',\n",
       "       'Microbulbifer', 'Micrococcus', 'Microcystis', 'Microlunatus',\n",
       "       'Micromonospora', 'Microvirgula', 'Minicystis', 'Modestobacter',\n",
       "       'Mogibacterium', 'Monoglobus', 'Moorella', 'Moraxella',\n",
       "       'Moritella', 'Mucilaginibacter', 'Muribaculaceae', 'Mycobacterium',\n",
       "       'Mycolicibacterium', 'Myroides', 'Myxococcus', 'Nakamurella',\n",
       "       'Neisseria', 'Neptunomonas', 'Niastella', 'Nitratifractor',\n",
       "       'Nitrobacter', 'Nitrosococcus', 'Nitrosomonas', 'Nitrospira',\n",
       "       'Niveispirillum', 'Nocardia', 'Nocardiopsis', 'Nodularia',\n",
       "       'Nostoc', 'Nostocales', 'Novibacillus', 'Oblitimonas',\n",
       "       'Oceanisphaera', 'Oceanithermus', 'Odoribacter', 'Oenococcus',\n",
       "       'Oligella', 'Olsenella', 'Opitutaceae', 'Oscillatoria',\n",
       "       'Oscillatoriales', 'Oscillospiraceae', 'Ottowia',\n",
       "       'Paenibacillaceae', 'Paenibacillus', 'Paludisphaera',\n",
       "       'Panacibacter', 'Pannonibacter', 'Parabacteroides', 'Paracoccus',\n",
       "       'Parageobacillus', 'Pararhodospirillum', 'Parasaccharibacter',\n",
       "       'Parascardovia', 'Parvimonas', 'Parvularcula', 'Pasteurella',\n",
       "       'Pectobacterium', 'Pediococcus', 'Pedobacter', 'Pelagibaca',\n",
       "       'Pelobacter', 'Pelodictyon', 'Pelolinea', 'Peptococcaceae',\n",
       "       'Peptoniphilus', 'Persephonella', 'Petrimonas', 'Petrotoga',\n",
       "       'Photobacterium', 'Photorhabdus', 'Phreatobacter', 'Phycisphaera',\n",
       "       'Phycisphaerae', 'Pigmentiphaga', 'Pimelobacter', 'Pirellula',\n",
       "       'Pistricoccus', 'Planctomycetales', 'Planctopirus', 'Planktothrix',\n",
       "       'Pluralibacter', 'Polymorphum', 'Porphyromonas', 'Pragia',\n",
       "       'Prauserella', 'Prevotella', 'Propionibacterium',\n",
       "       'Prosthecochloris', 'Proteiniphilum', 'Proteus', 'Providencia',\n",
       "       'Pseudoalteromonas', 'Pseudobacter', 'Pseudobutyrivibrio',\n",
       "       'Pseudoclostridium', 'Pseudodesulfovibrio', 'Pseudomonas',\n",
       "       'Pseudonocardia', 'Pseudopropionibacterium', 'Pseudothermotoga',\n",
       "       'Pseudoxanthomonas', 'Psychroflexus', 'Psychromicrobium',\n",
       "       'Psychromonas', 'Ralstonia', 'Ramlibacter', 'Raoultella',\n",
       "       'Raphidiopsis', 'Rathayibacter', 'Rhodobacter', 'Rhodococcus',\n",
       "       'Rhodocyclaceae', 'Rhodoferax', 'Rhodomicrobium',\n",
       "       'Rhodopseudomonas', 'Rhodospirillum', 'Rhodothermaceae',\n",
       "       'Rhodothermus', 'Rhodovulum', 'Riemerella', 'Rippkaea',\n",
       "       'Roseburia', 'Roseiflexus', 'Roseomonas', 'Rothia',\n",
       "       'Rubinisphaera', 'Rubrivivax', 'Rubrobacter', 'Ruminiclostridium',\n",
       "       'Ruminococcaceae', 'Ruminococcus', 'Ruthenibacterium',\n",
       "       'Saccharomonospora', 'Saccharopolyspora', 'Saccharothrix',\n",
       "       'Salegentibacter', 'Salimicrobium', 'Salinibacter', 'Salinispira',\n",
       "       'Salinispora', 'Salinivirga', 'Salmonella', 'Saprospira',\n",
       "       'Scardovia', 'Schaalia', 'Sedimentisphaera', 'Sediminispirochaeta',\n",
       "       'Selenomonas', 'Serinicoccus', 'Serpentinomonas', 'Serratia',\n",
       "       'Shewanella', 'Shigella', 'Shimwellia', 'Silvanigrella',\n",
       "       'Singulisphaera', 'Sorangium', 'Sphaerobacter', 'Sphaerochaeta',\n",
       "       'Sphaerospermopsis', 'Sphaerotilus', 'Sphingobium', 'Spirochaeta',\n",
       "       'Spirosoma', 'Sporolactobacillus', 'Sporomusa', 'Stackebrandtia',\n",
       "       'Stanieria', 'Staphylococcus', 'Steroidobacter',\n",
       "       'Sterolibacteriaceae', 'Stigmatella', 'Streptococcus',\n",
       "       'Streptomyces', 'Streptosporangium', 'Sulfurihydrogenibium',\n",
       "       'Sulfurivermis', 'Sulfurospirillum', 'Sutterella',\n",
       "       'Symbiobacterium', 'Synechococcus', 'Syntrophobacter',\n",
       "       'Syntrophobotulus', 'Syntrophomonas', 'Syntrophothermus',\n",
       "       'Syntrophus', 'Tannerella', 'Taylorella', 'Tepidanaerobacter',\n",
       "       'Teredinibacter', 'Tessaracoccus', 'Tetragenococcus',\n",
       "       'Thalassolituus', 'Thauera', 'Thermacetogenium',\n",
       "       'Thermanaerovibrio', 'Thermincola', 'Thermoactinomycetaceae',\n",
       "       'Thermoanaerobacter', 'Thermoanaerobacterales',\n",
       "       'Thermoanaerobacterium', 'Thermobacillus', 'Thermobaculum',\n",
       "       'Thermobifida', 'Thermobispora', 'Thermochromatium',\n",
       "       'Thermoclostridium', 'Thermocrinis', 'Thermodesulfatator',\n",
       "       'Thermodesulfobacterium', 'Thermodesulfobium',\n",
       "       'Thermodesulfovibrio', 'Thermogutta', 'Thermomicrobium',\n",
       "       'Thermomonospora', 'Thermosediminibacter', 'Thermosipho',\n",
       "       'Thermosulfidibacter', 'Thermotoga', 'Thermovibrio', 'Thermovirga',\n",
       "       'Thermus', 'Thioalkalivibrio', 'Thiocystis', 'Thioflavicoccus',\n",
       "       'Thiohalobacter', 'Thiolapillus', 'Thiomicrospira', 'Thioploca',\n",
       "       'Tistrella', 'Tolumonas', 'Tolypothrix', 'Treponema', 'Truepera',\n",
       "       'Trueperella', 'Tsukamurella', 'Tumebacillus', 'UNVERIFIED_ORG:',\n",
       "       'Ureibacillus', 'Vagococcus', 'Veillonella', 'Verminephrobacter',\n",
       "       'Verrucomicrobia', 'Verrucomicrobium', 'Verrucosispora', 'Vibrio',\n",
       "       'Vitreoscilla', 'Xanthomonadaceae', 'Xanthomonas', 'Xenorhabdus',\n",
       "       'Xylanimonas', 'Yersinia', 'Zhongshania', 'Zoogloeaceae',\n",
       "       'Zunongwangia', 'Zymomonas'], dtype=object)"
      ]
     },
     "execution_count": 9,
     "metadata": {},
     "output_type": "execute_result"
    }
   ],
   "source": [
    "from Bio import SeqIO\n",
    "seq_dict = [{'genus' : rec.description.split(' ')[1], 'rec': rec} for rec in SeqIO.parse(\"/home/is6/work/cas_thesis/16s_extraction/final_round/thesis_results/16S_falignment/16S_alignment_clean.fasta\", \"fasta\")]\n",
    "seq_df = pd.DataFrame(seq_dict)\n",
    "genera = np.unique(seq_df.genus)\n",
    "genera"
   ]
  },
  {
   "cell_type": "code",
   "execution_count": 13,
   "metadata": {},
   "outputs": [
    {
     "data": {
      "text/plain": [
       "26"
      ]
     },
     "execution_count": 13,
     "metadata": {},
     "output_type": "execute_result"
    }
   ],
   "source": [
    "seq_df.rec[seq_df.genus == 'Bacillus'].shape[0]"
   ]
  },
  {
   "cell_type": "code",
   "execution_count": 16,
   "metadata": {},
   "outputs": [
    {
     "data": {
      "text/plain": [
       "3"
      ]
     },
     "execution_count": 16,
     "metadata": {},
     "output_type": "execute_result"
    }
   ],
   "source": [
    "pd.Series([5,4,8]).shape[0]"
   ]
  },
  {
   "cell_type": "code",
   "execution_count": 17,
   "metadata": {},
   "outputs": [],
   "source": [
    "# running cons command"
   ]
  },
  {
   "cell_type": "code",
   "execution_count": 11,
   "metadata": {},
   "outputs": [],
   "source": [
    "for genus in genera:\n",
    "    \n",
    "    fasta_file = './Genus_chunk/' + genus + '.fasta'\n",
    "    fasta_cons_file = './Cons_seq/' + genus + '.fasta'\n",
    "    \n",
    "    seq_genus_series = seq_df.rec[seq_df.genus == genus] #filter the sequences by its genus\n",
    "    \n",
    "    SeqIO.write(seq_genus_series.values, fasta_file, 'fasta') #writing output in a file\n",
    "    if seq_genus_series.shape[0] > 1: #checks the nubmer of sequences inside files\n",
    "        subprocess.run(['cons','-sequence',fasta_file,'-outseq',fasta_cons_file])\n",
    "    else:\n",
    "        SeqIO.write(seq_genus_series.values, fasta_cons_file, 'fasta')"
   ]
  },
  {
   "cell_type": "code",
   "execution_count": 8,
   "metadata": {},
   "outputs": [
    {
     "name": "stdout",
     "output_type": "stream",
     "text": [
      "Converted 1933 records\n"
     ]
    }
   ],
   "source": [
    "#converting stk files to fasta\n",
    "\n",
    "from Bio import SeqIO\n",
    "\n",
    "records = SeqIO.parse(\"/home/is6/work/cas_thesis/16s_extraction/final_round/thesis_results/16S_falignment/16S_falignment.bacteria.mask.stk\", \"stockholm\")\n",
    "count = SeqIO.write(records, \"/home/is6/work/cas_thesis/16s_extraction/final_round/thesis_results/16S_falignment/16S_alignment.bacteria.mask.fasta\", \"fasta\")\n",
    "print(\"Converted %i records\" % count)"
   ]
  },
  {
   "cell_type": "code",
   "execution_count": null,
   "metadata": {},
   "outputs": [],
   "source": []
  }
 ],
 "metadata": {
  "kernelspec": {
   "display_name": "Python 3",
   "language": "python",
   "name": "python3"
  },
  "language_info": {
   "codemirror_mode": {
    "name": "ipython",
    "version": 3
   },
   "file_extension": ".py",
   "mimetype": "text/x-python",
   "name": "python",
   "nbconvert_exporter": "python",
   "pygments_lexer": "ipython3",
   "version": "3.8.2"
  }
 },
 "nbformat": 4,
 "nbformat_minor": 2
}
