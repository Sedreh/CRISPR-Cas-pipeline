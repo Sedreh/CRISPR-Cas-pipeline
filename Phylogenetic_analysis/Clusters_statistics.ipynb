{
 "cells": [
  {
   "cell_type": "code",
   "execution_count": 1,
   "metadata": {},
   "outputs": [],
   "source": [
    "from Bio import SeqIO, SeqFeature\n",
    "import pandas as pd\n",
    "import numpy as np\n",
    "import sys\n",
    "import os\n",
    "import typing as t\n",
    "from itertools import chain\n",
    "from collections import Counter\n",
    "import skbio\n",
    "from Bio import Phylo\n",
    "from skbio import TreeNode"
   ]
  },
  {
   "cell_type": "code",
   "execution_count": 2,
   "metadata": {},
   "outputs": [],
   "source": [
    "os.chdir(\"/home/is6/work/cas_thesis/16s_extraction/final_round/thesis_results\")"
   ]
  },
  {
   "cell_type": "code",
   "execution_count": 3,
   "metadata": {},
   "outputs": [],
   "source": [
    "#Read tree that is made from filtered and new pfam domains\n",
    "with open('/home/is6/work/cas_thesis/16s_extraction/final_round/thesis_results/bacteria_tree.nwk') as buffer:\n",
    "    tree = skbio.io.read(buffer, format=\"newick\", into=skbio.tree.TreeNode)"
   ]
  },
  {
   "cell_type": "code",
   "execution_count": 4,
   "metadata": {},
   "outputs": [
    {
     "data": {
      "text/plain": [
       "<_io.TextIOWrapper name='rooted_tree.nwk' mode='w' encoding='UTF-8'>"
      ]
     },
     "execution_count": 4,
     "metadata": {},
     "output_type": "execute_result"
    }
   ],
   "source": [
    "#rooting the tree at midpoint\n",
    "tree = tree.root_at_midpoint()\n",
    "tree.write(open('rooted_tree.nwk', 'w'))"
   ]
  },
  {
   "cell_type": "code",
   "execution_count": 5,
   "metadata": {
    "scrolled": true
   },
   "outputs": [
    {
     "data": {
      "text/html": [
       "<div>\n",
       "<style scoped>\n",
       "    .dataframe tbody tr th:only-of-type {\n",
       "        vertical-align: middle;\n",
       "    }\n",
       "\n",
       "    .dataframe tbody tr th {\n",
       "        vertical-align: top;\n",
       "    }\n",
       "\n",
       "    .dataframe thead th {\n",
       "        text-align: right;\n",
       "    }\n",
       "</style>\n",
       "<table border=\"1\" class=\"dataframe\">\n",
       "  <thead>\n",
       "    <tr style=\"text-align: right;\">\n",
       "      <th></th>\n",
       "      <th>id</th>\n",
       "      <th>component</th>\n",
       "      <th>genus_renamed</th>\n",
       "    </tr>\n",
       "  </thead>\n",
       "  <tbody>\n",
       "    <tr>\n",
       "      <th>0</th>\n",
       "      <td>GCF_000006605.1</td>\n",
       "      <td>1</td>\n",
       "      <td>Corynebacterium</td>\n",
       "    </tr>\n",
       "    <tr>\n",
       "      <th>1</th>\n",
       "      <td>GCF_000006985.1</td>\n",
       "      <td>8</td>\n",
       "      <td>Chlorobium</td>\n",
       "    </tr>\n",
       "    <tr>\n",
       "      <th>2</th>\n",
       "      <td>GCF_000007085.1</td>\n",
       "      <td>3</td>\n",
       "      <td>Caldanaerobacter</td>\n",
       "    </tr>\n",
       "    <tr>\n",
       "      <th>3</th>\n",
       "      <td>GCF_000007425.1</td>\n",
       "      <td>5</td>\n",
       "      <td>Streptococcus</td>\n",
       "    </tr>\n",
       "    <tr>\n",
       "      <th>4</th>\n",
       "      <td>GCF_000007465.2</td>\n",
       "      <td>10</td>\n",
       "      <td>Streptococcus</td>\n",
       "    </tr>\n",
       "  </tbody>\n",
       "</table>\n",
       "</div>"
      ],
      "text/plain": [
       "                id  component     genus_renamed\n",
       "0  GCF_000006605.1          1   Corynebacterium\n",
       "1  GCF_000006985.1          8        Chlorobium\n",
       "2  GCF_000007085.1          3  Caldanaerobacter\n",
       "3  GCF_000007425.1          5     Streptococcus\n",
       "4  GCF_000007465.2         10     Streptococcus"
      ]
     },
     "execution_count": 5,
     "metadata": {},
     "output_type": "execute_result"
    }
   ],
   "source": [
    "#reading cluster file\n",
    "cluster_assignments = pd.read_csv(\"/home/ilia/projects/misc/sedreh/domains_pfam/assigned_components_annotated_filt.tsv\", sep='\\t')\n",
    "cluster_assignments.head()"
   ]
  },
  {
   "cell_type": "code",
   "execution_count": 7,
   "metadata": {},
   "outputs": [],
   "source": [
    "#Make statistics table with node_id and clusters\n",
    "#label rooted tree and \n",
    "final_dir = '/home/is6/work/cas_thesis/16s_extraction/final_round/thesis_results/'\n",
    "\n",
    "genus_to_clusters = {\n",
    "    genus: grp['component']\n",
    "    for genus, grp in cluster_assignments.groupby('genus_renamed')\n",
    "}\n",
    "\n",
    "node_components: t.List[dict] = [] #creating empty list\n",
    "with open(final_dir + 'rooted_tree.nwk') as buffer: #opening our rooted tree as buffer\n",
    "    tree = skbio.io.read(buffer, format=\"newick\", into=skbio.tree.TreeNode)  #loading tree from the buffer\n",
    "    # label internal nodes\n",
    "    tree.assign_ids(),   \n",
    "    for node in tree.traverse(): #traversing tree to assign internal node labeles\n",
    "        if not node.is_tip():   #ignore the tip nodes\n",
    "             node.name = f'n{node.id}' \n",
    "             components = Counter(chain.from_iterable(\n",
    "                 genus_to_clusters[tip.name] for tip in node.tips() if tip.name in genus_to_clusters \n",
    "             ))  \n",
    "             node_components.append({'node_id': node.name, **components})\n",
    "                \n",
    "pd.DataFrame.from_records(node_components).to_csv(final_dir + 'statistics.csv')\n",
    "with open(final_dir + 'bacteria_final_tree_labelled.nwk', 'w') as buffer:\n",
    "    tree.write(buffer, format=\"newick\")"
   ]
  },
  {
   "cell_type": "code",
   "execution_count": null,
   "metadata": {},
   "outputs": [],
   "source": []
  }
 ],
 "metadata": {
  "kernelspec": {
   "display_name": "Python 3",
   "language": "python",
   "name": "python3"
  },
  "language_info": {
   "codemirror_mode": {
    "name": "ipython",
    "version": 3
   },
   "file_extension": ".py",
   "mimetype": "text/x-python",
   "name": "python",
   "nbconvert_exporter": "python",
   "pygments_lexer": "ipython3",
   "version": "3.6.7"
  }
 },
 "nbformat": 4,
 "nbformat_minor": 2
}
